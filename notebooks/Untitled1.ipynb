{
 "cells": [
  {
   "cell_type": "code",
   "execution_count": 1,
   "id": "4dad816a",
   "metadata": {},
   "outputs": [],
   "source": [
    "import optimus"
   ]
  },
  {
   "cell_type": "code",
   "execution_count": 2,
   "id": "faae91cf",
   "metadata": {},
   "outputs": [],
   "source": [
    "frequency = 0.5e6  # Hz\n",
    "piston_radius = 0.01  # m\n",
    "location = (0, 0, 0)\n",
    "velocity = 1.0\n",
    "source = optimus.source.create_piston(frequency, radius=piston_radius, location=location, source_axis=(1, 0, 0),\n",
    "                                      velocity=velocity, number_of_point_sources_per_wavelength=10)"
   ]
  },
  {
   "cell_type": "code",
   "execution_count": 3,
   "id": "7890f910",
   "metadata": {},
   "outputs": [],
   "source": [
    "material_ext = optimus.material.create_material(name='water-no-attenuation',\n",
    "                                                density=1000,\n",
    "                                                speed_of_sound=1500)"
   ]
  },
  {
   "cell_type": "code",
   "execution_count": 4,
   "id": "78d37e15",
   "metadata": {},
   "outputs": [
    {
     "name": "stdout",
     "output_type": "stream",
     "text": [
      "                 name  density  speed_of_sound  attenuation_coeff_a  attenuation_pow_b\n",
      " water-no-attenuation   1000.0          1500.0                  0.0                0.0\n"
     ]
    }
   ],
   "source": [
    "material_ext.print()"
   ]
  },
  {
   "cell_type": "code",
   "execution_count": 5,
   "id": "0b8a8b8c",
   "metadata": {},
   "outputs": [],
   "source": [
    "import numpy as np"
   ]
  },
  {
   "cell_type": "code",
   "execution_count": 6,
   "id": "c193440b",
   "metadata": {},
   "outputs": [],
   "source": [
    "k = material_ext.compute_wavenumber(frequency)  # m^-1\n",
    "lambd = np.real(2 * np.pi / np.abs(k))  # m"
   ]
  },
  {
   "cell_type": "code",
   "execution_count": 14,
   "id": "6ae7a891",
   "metadata": {},
   "outputs": [],
   "source": [
    "x_offset = 0.01  # m\n",
    "y_offset = 0.0  # m\n",
    "zmin = 0.0\n",
    "zmax = 15 * piston_radius\n",
    "nz = int(zmax / lambd * 24)\n",
    "x_field = x_offset * np.ones(nz)\n",
    "y_field = y_offset * np.ones(nz)\n",
    "z_field = np.linspace(zmin, zmax, nz)\n",
    "points = np.array((np.row_stack((x_field, y_field, z_field))))"
   ]
  },
  {
   "cell_type": "code",
   "execution_count": 17,
   "id": "61f45896",
   "metadata": {},
   "outputs": [],
   "source": [
    "normals = np.zeros((3, points.shape[1]), dtype=float)\n",
    "normals[0, :] = np.ones(points.shape[1], dtype=float)"
   ]
  },
  {
   "cell_type": "code",
   "execution_count": 18,
   "id": "7fa19368",
   "metadata": {},
   "outputs": [],
   "source": [
    "from optimus.source.transducers import transducer_field"
   ]
  },
  {
   "cell_type": "code",
   "execution_count": 25,
   "id": "9291efa7",
   "metadata": {},
   "outputs": [
    {
     "name": "stdout",
     "output_type": "stream",
     "text": [
      "Number of point sources across element diameter: 67\n",
      "Number of point sources in transducer: 3409\n",
      "Parallelisation library is: numba\n"
     ]
    }
   ],
   "source": [
    "inc_field = transducer_field(source, material_ext, points, normals=normals, verbose=True)\n",
    "p_inc = inc_field.pressure\n",
    "u_inc = inc_field.normal_pressure_gradient / (1j * 2 * np.pi * frequency * material_ext.density)\n",
    "Ix = np.real(0.25 * (p_inc * np.conj(u_inc) + np.conj(p_inc) * u_inc))"
   ]
  },
  {
   "cell_type": "code",
   "execution_count": 29,
   "id": "1a4647ec",
   "metadata": {},
   "outputs": [
    {
     "data": {
      "image/png": "[encoded data removed]",
      "text/plain": [
       "<Figure size 432x288 with 1 Axes>"
      ]
     },
     "metadata": {
      "needs_background": "light"
     },
     "output_type": "display_data"
    }
   ],
   "source": [
    "from matplotlib import pylab as plt\n",
    "%matplotlib inline\n",
    "plt.plot(points[2], Ix)\n",
    "plt.xlabel('Radial distance (m)')\n",
    "plt.ylabel('Acoustic intensity (W/$m^{-2}$)')\n",
    "plt.show()"
   ]
  },
  {
   "cell_type": "code",
   "execution_count": 31,
   "id": "d9feb6a1",
   "metadata": {},
   "outputs": [
    {
     "name": "stdout",
     "output_type": "stream",
     "text": [
      "Radiated acoustic power [W] is:  237.4662970782599 \n",
      " when the driving velocity is 1 m/s\n"
     ]
    }
   ],
   "source": [
    "power_at_unit_velocity = 2 * np.pi * np.sum(Ix * points[2]) * points[2, 1]\n",
    "print('Radiated acoustic power [W] is: ',power_at_unit_velocity, '\\n when the driving velocity is 1 m/s')"
   ]
  },
  {
   "cell_type": "code",
   "execution_count": 32,
   "id": "5b85b2d3",
   "metadata": {},
   "outputs": [
    {
     "name": "stdout",
     "output_type": "stream",
     "text": [
      "The required piston velocity to generate  1 W of acoustic power is:\n",
      " 0.06489317301467962 m/s\n"
     ]
    }
   ],
   "source": [
    "# Required acoustic power\n",
    "power_desired = 1\n",
    "\n",
    "# Calculate velocity to produce required power\n",
    "piston_velocity = np.sqrt(power_desired / power_at_unit_velocity)\n",
    "print('The required piston velocity to generate ', power_desired ,\n",
    "      'W of acoustic power is:\\n',piston_velocity, 'm/s')"
   ]
  }
 ],
 "metadata": {
  "kernelspec": {
   "display_name": "Python 3",
   "language": "python",
   "name": "python3"
  },
  "language_info": {
   "codemirror_mode": {
    "name": "ipython",
    "version": 3
   },
   "file_extension": ".py",
   "mimetype": "text/x-python",
   "name": "python",
   "nbconvert_exporter": "python",
   "pygments_lexer": "ipython3",
   "version": "3.5.2"
  }
 },
 "nbformat": 4,
 "nbformat_minor": 5
}
